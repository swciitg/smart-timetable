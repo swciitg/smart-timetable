{
 "cells": [
  {
   "cell_type": "code",
   "execution_count": 2,
   "metadata": {
    "colab": {
     "base_uri": "https://localhost:8080/"
    },
    "id": "Cx5CKBaVGOCw",
    "outputId": "6761d74f-8b4d-45bc-d7d9-da998b5de7cb"
   },
   "outputs": [
    {
     "name": "stderr",
     "output_type": "stream",
     "text": [
      "'apt' is not recognized as an internal or external command,\n",
      "operable program or batch file.\n"
     ]
    },
    {
     "name": "stdout",
     "output_type": "stream",
     "text": [
      "Requirement already satisfied: ghostscript in c:\\python312\\lib\\site-packages (0.7)\n",
      "Requirement already satisfied: setuptools>=38.6.0 in c:\\python312\\lib\\site-packages (from ghostscript) (71.1.0)\n"
     ]
    },
    {
     "name": "stderr",
     "output_type": "stream",
     "text": [
      "\n",
      "[notice] A new release of pip is available: 24.0 -> 24.2\n",
      "[notice] To update, run: python.exe -m pip install --upgrade pip\n"
     ]
    },
    {
     "name": "stdout",
     "output_type": "stream",
     "text": [
      "Collecting camelot-py\n",
      "  Using cached camelot_py-0.11.0-py3-none-any.whl.metadata (8.3 kB)\n",
      "Collecting chardet>=3.0.4 (from camelot-py)\n",
      "  Using cached chardet-5.2.0-py3-none-any.whl.metadata (3.4 kB)\n",
      "Collecting click>=6.7 (from camelot-py)\n",
      "  Using cached click-8.1.7-py3-none-any.whl.metadata (3.0 kB)\n",
      "Requirement already satisfied: numpy>=1.13.3 in c:\\python312\\lib\\site-packages (from camelot-py) (2.0.1)\n",
      "Collecting openpyxl>=2.5.8 (from camelot-py)\n",
      "  Using cached openpyxl-3.1.5-py2.py3-none-any.whl.metadata (2.5 kB)\n",
      "Requirement already satisfied: pandas>=0.23.4 in c:\\python312\\lib\\site-packages (from camelot-py) (2.2.2)\n",
      "Collecting pdfminer.six>=20200726 (from camelot-py)\n",
      "  Using cached pdfminer.six-20240706-py3-none-any.whl.metadata (4.1 kB)\n",
      "Collecting pypdf>=3.0.0 (from camelot-py)\n",
      "  Using cached pypdf-4.3.1-py3-none-any.whl.metadata (7.4 kB)\n",
      "Requirement already satisfied: tabulate>=0.8.9 in c:\\python312\\lib\\site-packages (from camelot-py) (0.9.0)\n",
      "Requirement already satisfied: colorama in c:\\users\\lenovo\\appdata\\roaming\\python\\python312\\site-packages (from click>=6.7->camelot-py) (0.4.6)\n",
      "Collecting et-xmlfile (from openpyxl>=2.5.8->camelot-py)\n",
      "  Using cached et_xmlfile-1.1.0-py3-none-any.whl.metadata (1.8 kB)\n",
      "Requirement already satisfied: python-dateutil>=2.8.2 in c:\\python312\\lib\\site-packages (from pandas>=0.23.4->camelot-py) (2.9.0.post0)\n",
      "Requirement already satisfied: pytz>=2020.1 in c:\\python312\\lib\\site-packages (from pandas>=0.23.4->camelot-py) (2024.1)\n",
      "Requirement already satisfied: tzdata>=2022.7 in c:\\python312\\lib\\site-packages (from pandas>=0.23.4->camelot-py) (2024.1)\n",
      "Collecting charset-normalizer>=2.0.0 (from pdfminer.six>=20200726->camelot-py)\n",
      "  Using cached charset_normalizer-3.3.2-cp312-cp312-win_amd64.whl.metadata (34 kB)\n",
      "Collecting cryptography>=36.0.0 (from pdfminer.six>=20200726->camelot-py)\n",
      "  Downloading cryptography-43.0.1-cp39-abi3-win_amd64.whl.metadata (5.4 kB)\n",
      "Collecting cffi>=1.12 (from cryptography>=36.0.0->pdfminer.six>=20200726->camelot-py)\n",
      "  Downloading cffi-1.17.1-cp312-cp312-win_amd64.whl.metadata (1.6 kB)\n",
      "Requirement already satisfied: six>=1.5 in c:\\python312\\lib\\site-packages (from python-dateutil>=2.8.2->pandas>=0.23.4->camelot-py) (1.16.0)\n",
      "Collecting pycparser (from cffi>=1.12->cryptography>=36.0.0->pdfminer.six>=20200726->camelot-py)\n",
      "  Using cached pycparser-2.22-py3-none-any.whl.metadata (943 bytes)\n",
      "Using cached camelot_py-0.11.0-py3-none-any.whl (40 kB)\n",
      "Using cached chardet-5.2.0-py3-none-any.whl (199 kB)\n",
      "Using cached click-8.1.7-py3-none-any.whl (97 kB)\n",
      "Using cached openpyxl-3.1.5-py2.py3-none-any.whl (250 kB)\n",
      "Using cached pdfminer.six-20240706-py3-none-any.whl (5.6 MB)\n",
      "Using cached pypdf-4.3.1-py3-none-any.whl (295 kB)\n",
      "Using cached charset_normalizer-3.3.2-cp312-cp312-win_amd64.whl (100 kB)\n",
      "Downloading cryptography-43.0.1-cp39-abi3-win_amd64.whl (3.1 MB)\n",
      "   ---------------------------------------- 0.0/3.1 MB ? eta -:--:--\n",
      "   ---------------------------------------- 0.0/3.1 MB ? eta -:--:--\n",
      "   ---------------------------------------- 0.0/3.1 MB ? eta -:--:--\n",
      "   - -------------------------------------- 0.1/3.1 MB 2.6 MB/s eta 0:00:02\n",
      "   - -------------------------------------- 0.1/3.1 MB 1.2 MB/s eta 0:00:03\n",
      "   - -------------------------------------- 0.1/3.1 MB 1.2 MB/s eta 0:00:03\n",
      "   --- ------------------------------------ 0.3/3.1 MB 1.4 MB/s eta 0:00:03\n",
      "   ----- ---------------------------------- 0.5/3.1 MB 2.0 MB/s eta 0:00:02\n",
      "   ----- ---------------------------------- 0.5/3.1 MB 2.0 MB/s eta 0:00:02\n",
      "   ----- ---------------------------------- 0.5/3.1 MB 2.0 MB/s eta 0:00:02\n",
      "   ----- ---------------------------------- 0.5/3.1 MB 2.0 MB/s eta 0:00:02\n",
      "   ----- ---------------------------------- 0.5/3.1 MB 2.0 MB/s eta 0:00:02\n",
      "   ----- ---------------------------------- 0.5/3.1 MB 2.0 MB/s eta 0:00:02\n",
      "   ------ --------------------------------- 0.5/3.1 MB 952.6 kB/s eta 0:00:03\n",
      "   ------ --------------------------------- 0.5/3.1 MB 962.4 kB/s eta 0:00:03\n",
      "   -------- ------------------------------- 0.7/3.1 MB 1.0 MB/s eta 0:00:03\n",
      "   -------- ------------------------------- 0.7/3.1 MB 997.5 kB/s eta 0:00:03\n",
      "   -------- ------------------------------- 0.7/3.1 MB 997.5 kB/s eta 0:00:03\n",
      "   ---------- ----------------------------- 0.8/3.1 MB 1.1 MB/s eta 0:00:03\n",
      "   ------------- -------------------------- 1.0/3.1 MB 1.2 MB/s eta 0:00:02\n",
      "   ------------- -------------------------- 1.1/3.1 MB 1.3 MB/s eta 0:00:02\n",
      "   ------------- -------------------------- 1.1/3.1 MB 1.3 MB/s eta 0:00:02\n",
      "   ---------------- ----------------------- 1.3/3.1 MB 1.3 MB/s eta 0:00:02\n",
      "   ----------------- ---------------------- 1.4/3.1 MB 1.4 MB/s eta 0:00:02\n",
      "   ----------------- ---------------------- 1.4/3.1 MB 1.4 MB/s eta 0:00:02\n",
      "   ------------------ --------------------- 1.4/3.1 MB 1.3 MB/s eta 0:00:02\n",
      "   ------------------ --------------------- 1.4/3.1 MB 1.3 MB/s eta 0:00:02\n",
      "   ------------------ --------------------- 1.4/3.1 MB 1.3 MB/s eta 0:00:02\n",
      "   ------------------ --------------------- 1.4/3.1 MB 1.3 MB/s eta 0:00:02\n",
      "   ------------------ --------------------- 1.4/3.1 MB 1.3 MB/s eta 0:00:02\n",
      "   ------------------ --------------------- 1.4/3.1 MB 1.3 MB/s eta 0:00:02\n",
      "   ------------------ --------------------- 1.4/3.1 MB 1.3 MB/s eta 0:00:02\n",
      "   ------------------ --------------------- 1.4/3.1 MB 1.3 MB/s eta 0:00:02\n",
      "   ------------------ --------------------- 1.4/3.1 MB 1.3 MB/s eta 0:00:02\n",
      "   ------------------ --------------------- 1.5/3.1 MB 962.6 kB/s eta 0:00:02\n",
      "   ------------------ --------------------- 1.5/3.1 MB 962.6 kB/s eta 0:00:02\n",
      "   ------------------- -------------------- 1.5/3.1 MB 928.0 kB/s eta 0:00:02\n",
      "   ------------------- -------------------- 1.5/3.1 MB 928.0 kB/s eta 0:00:02\n",
      "   -------------------- ------------------- 1.6/3.1 MB 922.1 kB/s eta 0:00:02\n",
      "   ---------------------- ----------------- 1.8/3.1 MB 994.7 kB/s eta 0:00:02\n",
      "   ------------------------ --------------- 1.9/3.1 MB 1.1 MB/s eta 0:00:02\n",
      "   -------------------------- ------------- 2.0/3.1 MB 1.1 MB/s eta 0:00:01\n",
      "   --------------------------- ------------ 2.1/3.1 MB 1.1 MB/s eta 0:00:01\n",
      "   --------------------------- ------------ 2.1/3.1 MB 1.1 MB/s eta 0:00:01\n",
      "   --------------------------- ------------ 2.1/3.1 MB 1.1 MB/s eta 0:00:01\n",
      "   ------------------------------ --------- 2.4/3.1 MB 1.2 MB/s eta 0:00:01\n",
      "   ------------------------------- -------- 2.4/3.1 MB 1.2 MB/s eta 0:00:01\n",
      "   -------------------------------- ------- 2.5/3.1 MB 1.2 MB/s eta 0:00:01\n",
      "   --------------------------------- ------ 2.5/3.1 MB 1.2 MB/s eta 0:00:01\n",
      "   --------------------------------- ------ 2.5/3.1 MB 1.2 MB/s eta 0:00:01\n",
      "   --------------------------------- ------ 2.6/3.1 MB 1.1 MB/s eta 0:00:01\n",
      "   ---------------------------------- ----- 2.6/3.1 MB 1.2 MB/s eta 0:00:01\n",
      "   ------------------------------------ --- 2.8/3.1 MB 1.2 MB/s eta 0:00:01\n",
      "   ------------------------------------- -- 2.9/3.1 MB 1.2 MB/s eta 0:00:01\n",
      "   -------------------------------------- - 2.9/3.1 MB 1.2 MB/s eta 0:00:01\n",
      "   -------------------------------------- - 2.9/3.1 MB 1.2 MB/s eta 0:00:01\n",
      "   ---------------------------------------  3.1/3.1 MB 1.2 MB/s eta 0:00:01\n",
      "   ---------------------------------------- 3.1/3.1 MB 1.2 MB/s eta 0:00:00\n",
      "Using cached et_xmlfile-1.1.0-py3-none-any.whl (4.7 kB)\n",
      "Downloading cffi-1.17.1-cp312-cp312-win_amd64.whl (181 kB)\n",
      "   ---------------------------------------- 0.0/182.0 kB ? eta -:--:--\n",
      "   ------------- -------------------------- 61.4/182.0 kB 3.4 MB/s eta 0:00:01\n",
      "   -------------------------------------- - 174.1/182.0 kB 2.1 MB/s eta 0:00:01\n",
      "   ---------------------------------------- 182.0/182.0 kB 1.8 MB/s eta 0:00:00\n",
      "Using cached pycparser-2.22-py3-none-any.whl (117 kB)\n",
      "Installing collected packages: pypdf, pycparser, et-xmlfile, click, charset-normalizer, chardet, openpyxl, cffi, cryptography, pdfminer.six, camelot-py\n"
     ]
    },
    {
     "name": "stderr",
     "output_type": "stream",
     "text": [
      "  WARNING: Failed to write executable - trying to use .deleteme logic\n",
      "ERROR: Could not install packages due to an OSError: [WinError 2] The system cannot find the file specified: 'C:\\\\Python312\\\\Scripts\\\\normalizer.exe' -> 'C:\\\\Python312\\\\Scripts\\\\normalizer.exe.deleteme'\n",
      "\n",
      "\n",
      "[notice] A new release of pip is available: 24.0 -> 24.2\n",
      "[notice] To update, run: python.exe -m pip install --upgrade pip\n"
     ]
    },
    {
     "name": "stdout",
     "output_type": "stream",
     "text": [
      "Requirement already satisfied: PyPDF2==2.12.1 in c:\\python312\\lib\\site-packages (2.12.1)\n"
     ]
    },
    {
     "name": "stderr",
     "output_type": "stream",
     "text": [
      "\n",
      "[notice] A new release of pip is available: 24.0 -> 24.2\n",
      "[notice] To update, run: python.exe -m pip install --upgrade pip\n"
     ]
    },
    {
     "ename": "ModuleNotFoundError",
     "evalue": "No module named 'camelot'",
     "output_type": "error",
     "traceback": [
      "\u001b[1;31m---------------------------------------------------------------------------\u001b[0m",
      "\u001b[1;31mModuleNotFoundError\u001b[0m                       Traceback (most recent call last)",
      "Cell \u001b[1;32mIn[2], line 9\u001b[0m\n\u001b[0;32m      7\u001b[0m get_ipython()\u001b[38;5;241m.\u001b[39msystem(\u001b[38;5;124m'\u001b[39m\u001b[38;5;124m pip install camelot-py\u001b[39m\u001b[38;5;124m'\u001b[39m)\n\u001b[0;32m      8\u001b[0m get_ipython()\u001b[38;5;241m.\u001b[39msystem(\u001b[38;5;124m'\u001b[39m\u001b[38;5;124m pip install --upgrade PyPDF2==2.12.1\u001b[39m\u001b[38;5;124m'\u001b[39m)\n\u001b[1;32m----> 9\u001b[0m \u001b[38;5;28;01mimport\u001b[39;00m \u001b[38;5;21;01mcamelot\u001b[39;00m\n\u001b[0;32m     10\u001b[0m \u001b[38;5;28;01mimport\u001b[39;00m \u001b[38;5;21;01mpandas\u001b[39;00m \u001b[38;5;28;01mas\u001b[39;00m \u001b[38;5;21;01mpd\u001b[39;00m\n",
      "\u001b[1;31mModuleNotFoundError\u001b[0m: No module named 'camelot'"
     ]
    }
   ],
   "source": [
    "import csv\n",
    "import re\n",
    "\n",
    "# install ghostscript\n",
    "! apt install ghostscript python3-tk\n",
    "! pip install ghostscript\n",
    "! pip install camelot-py\n",
    "! pip install --upgrade PyPDF2==2.12.1\n",
    "import camelot\n",
    "import pandas as pd"
   ]
  },
  {
   "cell_type": "code",
   "execution_count": null,
   "metadata": {},
   "outputs": [],
   "source": [
    "def generate_all_courses_csv(url):\n",
    "    '''\n",
    "    Generate CSV file corresponding to the PDF file\n",
    "    (A sample pdf is available in samples in sample_courses.pdf)\n",
    "\n",
    "    This function generates a CSV file, given the URl of a PDF file.\n",
    "    It makes use of camelot-py (https://pypi.org/project/camelot-py/)\n",
    "\n",
    "    Sample Response: sample_courses_csv.csv\n",
    "\n",
    "    Arguments:\n",
    "        url: a string\n",
    "    Returns:\n",
    "        A courses_csv .csv or None incase of an exception\n",
    "    '''\n",
    "    try:\n",
    "        tables = camelot.read_pdf(url, pages='1-end', strip_text='\\n')\n",
    "        print(tables)\n",
    "        table_dfs = [table.df.iloc[1:, :] for table in tables]\n",
    "        final_df = pd.concat(table_dfs, ignore_index=True)\n",
    "        final_df.to_csv('courses_csv.csv', index=False)\n",
    "        return {'message': 'Successfully converted and saved CSV file'}\n",
    "    except Exception as e:\n",
    "        print(e)\n",
    "        return None\n",
    "\n",
    "generate_all_courses_csv(\"coursesjan.pdf\")"
   ]
  },
  {
   "cell_type": "code",
   "execution_count": 16,
   "metadata": {
    "id": "nPmIGeUrGZaJ"
   },
   "outputs": [],
   "source": [
    "def generate_freshers_csv(url1, url2):\n",
    "    '''\n",
    "    Generate CSV file corresponding to the freshers PDF file\n",
    "    (A sample freshers pdf can be found in samples directory named sample_freshers.pdf\n",
    "     A sample tutorial_location.csv can be found in samples directory namded sample_tutorial_location.csv)\n",
    "\n",
    "    Sample respnse: sample_divisions.csv\n",
    "\n",
    "    This function generates a CSV file, given the URl of a PDF file.\n",
    "    It makes use of camelot-py (https://pypi.org/project/camelot-py/)\n",
    "\n",
    "    Arguments:\n",
    "        url1: location of freshers.pdf\n",
    "        url1: location of locations.csv\n",
    "    Returns:\n",
    "        A csv file or None incase of an exception\n",
    "    '''\n",
    "    tables = camelot.read_pdf(url1, pages='1-end', strip_text='\\n')\n",
    "    table_dfs = [table.df.iloc[1:, :] for table in tables]\n",
    "    df = pd.concat(table_dfs, ignore_index=True)\n",
    "    df.columns = df.iloc[0]\n",
    "    df = df.iloc[1:, :]\n",
    "\n",
    "    dfloc = pd.read_csv(url2,dtype=object)\n",
    "\n",
    "    df = pd.merge(df,dfloc,on='Tutorial', how='left')\n",
    "\n",
    "    df.drop(['Name', 'IITG Email ID', 'PwD', 'Discipline/Branch Name'], axis=1).to_csv('divisions.csv', index=False)\n",
    "\n",
    "generate_freshers_csv(\"sample_freshers.pdf\", \"sample_tutorial_location.csv\")\n",
    "\n",
    "# tables = camelot.read_pdf(\"tt.pdf\", pages='3-end', strip_text='\\n')\n",
    "# table_dfs = [table.df.iloc[1:, :] for table in tables]\n",
    "# final_df = pd.concat(table_dfs, ignore_index=True)\n",
    "# final_df.to_csv('location.csv', index=False)"
   ]
  },
  {
   "cell_type": "code",
   "execution_count": null,
   "metadata": {
    "colab": {
     "base_uri": "https://localhost:8080/"
    },
    "id": "9sirUNeQzc7q",
    "outputId": "5c70d1c2-9dd3-4f11-e2d1-5d208cbcacde"
   },
   "outputs": [
    {
     "name": "stdout",
     "output_type": "stream",
     "text": [
      "generate_venue_csv invoked\n"
     ]
    },
    {
     "ename": "NameError",
     "evalue": "name 'camelot' is not defined",
     "output_type": "error",
     "traceback": [
      "\u001b[1;31m---------------------------------------------------------------------------\u001b[0m",
      "\u001b[1;31mNameError\u001b[0m                                 Traceback (most recent call last)",
      "Cell \u001b[1;32mIn[1], line 28\u001b[0m\n\u001b[0;32m     25\u001b[0m     \u001b[38;5;28mprint\u001b[39m(\u001b[38;5;124m\"\u001b[39m\u001b[38;5;124m'\u001b[39m\u001b[38;5;124mmessage\u001b[39m\u001b[38;5;124m'\u001b[39m\u001b[38;5;124m: \u001b[39m\u001b[38;5;124m'\u001b[39m\u001b[38;5;124mSuccessfully converted and saved CSV file\u001b[39m\u001b[38;5;124m'\u001b[39m\u001b[38;5;124m\"\u001b[39m)\n\u001b[0;32m     26\u001b[0m     \u001b[38;5;28;01mreturn\u001b[39;00m {\u001b[38;5;124m'\u001b[39m\u001b[38;5;124mmessage\u001b[39m\u001b[38;5;124m'\u001b[39m: \u001b[38;5;124m'\u001b[39m\u001b[38;5;124mSuccessfully converted and saved CSV file\u001b[39m\u001b[38;5;124m'\u001b[39m}\n\u001b[1;32m---> 28\u001b[0m \u001b[43mgenerate_venue_csv\u001b[49m\u001b[43m(\u001b[49m\u001b[38;5;124;43m\"\u001b[39;49m\u001b[38;5;124;43mmids_venue_2024.pdf\u001b[39;49m\u001b[38;5;124;43m\"\u001b[39;49m\u001b[43m,\u001b[49m\u001b[43m \u001b[49m\u001b[38;5;124;43m\"\u001b[39;49m\u001b[38;5;124;43mmidsem\u001b[39;49m\u001b[38;5;124;43m\"\u001b[39;49m\u001b[43m)\u001b[49m\n",
      "Cell \u001b[1;32mIn[1], line 19\u001b[0m, in \u001b[0;36mgenerate_venue_csv\u001b[1;34m(url, sem)\u001b[0m\n\u001b[0;32m      2\u001b[0m \u001b[38;5;250m\u001b[39m\u001b[38;5;124;03m'''\u001b[39;00m\n\u001b[0;32m      3\u001b[0m \u001b[38;5;124;03mGenerate CSV file corresponding to midsem venue the PDF file\u001b[39;00m\n\u001b[0;32m      4\u001b[0m \u001b[38;5;124;03m(A sample venue pdf can be found in samples directory named sample_exam_venue.pdf)\u001b[39;00m\n\u001b[1;32m   (...)\u001b[0m\n\u001b[0;32m     15\u001b[0m \u001b[38;5;124;03m    A csv file or None incase of an exception\u001b[39;00m\n\u001b[0;32m     16\u001b[0m \u001b[38;5;124;03m'''\u001b[39;00m\n\u001b[0;32m     18\u001b[0m \u001b[38;5;28mprint\u001b[39m(\u001b[38;5;124m\"\u001b[39m\u001b[38;5;124mgenerate_venue_csv invoked\u001b[39m\u001b[38;5;124m\"\u001b[39m)\n\u001b[1;32m---> 19\u001b[0m tables \u001b[38;5;241m=\u001b[39m \u001b[43mcamelot\u001b[49m\u001b[38;5;241m.\u001b[39mread_pdf(url, pages\u001b[38;5;241m=\u001b[39m\u001b[38;5;124m'\u001b[39m\u001b[38;5;124m1-end\u001b[39m\u001b[38;5;124m'\u001b[39m, strip_text\u001b[38;5;241m=\u001b[39m\u001b[38;5;124m'\u001b[39m\u001b[38;5;130;01m\\n\u001b[39;00m\u001b[38;5;124m'\u001b[39m)\n\u001b[0;32m     20\u001b[0m \u001b[38;5;28mprint\u001b[39m(\u001b[38;5;124m\"\u001b[39m\u001b[38;5;124mfetched the required pdf\u001b[39m\u001b[38;5;124m\"\u001b[39m)\n\u001b[0;32m     21\u001b[0m table_dfs \u001b[38;5;241m=\u001b[39m [table\u001b[38;5;241m.\u001b[39mdf\u001b[38;5;241m.\u001b[39miloc[\u001b[38;5;241m1\u001b[39m:, :] \u001b[38;5;28;01mfor\u001b[39;00m table \u001b[38;5;129;01min\u001b[39;00m tables]\n",
      "\u001b[1;31mNameError\u001b[0m: name 'camelot' is not defined"
     ]
    }
   ],
   "source": [
    "def generate_venue_csv(url, sem):\n",
    "    '''\n",
    "    Generate CSV file corresponding to midsem venue the PDF file\n",
    "    (A sample venue pdf can be found in samples directory named sample_exam_venue.pdf)\n",
    "\n",
    "    Sample response: sample_mid_venue.csv\n",
    "\n",
    "    This function generates a CSV file, given the URl of a PDF file.\n",
    "    It makes use of camelot-py (https://pypi.org/project/camelot-py/)\n",
    "\n",
    "    Arguments:\n",
    "        url: a string\n",
    "        sem: a string, \"midsem\" or \"endsem\"\n",
    "    Returns:\n",
    "        A csv file or None incase of an exception\n",
    "    '''\n",
    "\n",
    "    print(\"generate_venue_csv invoked\")\n",
    "    tables = camelot.read_pdf(url, pages='1-end', strip_text='\\n')\n",
    "    print(\"fetched the required pdf\")\n",
    "    table_dfs = [table.df.iloc[1:, :] for table in tables]\n",
    "    final_df = pd.concat(table_dfs, ignore_index=True)\n",
    "    final_df.columns = [\"code\", \"time\", \"session\", \"venue\", \"totalStudents\", \"roll\"]\n",
    "    final_df[[\"code\", \"venue\", \"roll\"]].to_csv(f'{sem}_venue.csv', index=False)\n",
    "    print(\"'message': 'Successfully converted and saved CSV file'\")\n",
    "    return {'message': 'Successfully converted and saved CSV file'}\n",
    "\n",
    "generate_venue_csv(\"sample_exam_venue.pdf\", \"endsem\")"
   ]
  }
 ],
 "metadata": {
  "colab": {
   "provenance": []
  },
  "kernelspec": {
   "display_name": "Python 3",
   "name": "python3"
  },
  "language_info": {
   "codemirror_mode": {
    "name": "ipython",
    "version": 3
   },
   "file_extension": ".py",
   "mimetype": "text/x-python",
   "name": "python",
   "nbconvert_exporter": "python",
   "pygments_lexer": "ipython3",
   "version": "3.12.3"
  }
 },
 "nbformat": 4,
 "nbformat_minor": 0
}
